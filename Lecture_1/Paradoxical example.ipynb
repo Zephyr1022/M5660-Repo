{
 "cells": [
  {
   "cell_type": "markdown",
   "metadata": {},
   "source": [
    "We wish to calculate $I_{50}$, where \n",
    "$$ I_n = \\int_0^1 x^n e^{-x} \\; dx $$.\n",
    "\n",
    "For integer $n$, $I_0=1-e^{-1}$, and integrating by parts to compute $I_1$ yields $I_n=nI_{n-1}-e^{-1}$.\n",
    "\n",
    "Alternatively, we could do $I_{n-1}=n^{-1}(I_n+e^{-1})$ provided we know $I_p$, $p_n$.  Let $p=60$ and approximate $I_p$ by the midpoint rule, $x^{60}e^{-.5}=2^{-60}e^{-.5}$.\n",
    "\n",
    "Let's compare the two methods, one with order epsilon initial error (machine rounding) and the other with \"bad\" data, as $1/61 \\geq I_{60} \\geq e^{-1}/61$."
   ]
  },
  {
   "cell_type": "code",
   "execution_count": 3,
   "metadata": {
    "collapsed": false
   },
   "outputs": [
    {
     "name": "stdout",
     "output_type": "stream",
     "text": [
      "-1.02753573666e+48\n",
      "I_60= 3.19084551465e-19\n",
      "I_ 59 = 0.0062352447656176665\n",
      "I_ 58 = 0.006450253205811379\n",
      "I_ 57 = 0.006567187620653574\n",
      "I_ 56 = 0.006686546942715998\n",
      "I_ 55 = 0.006810290692984697\n",
      "I_ 54 = 0.00693869873823013\n",
      "I_ 53 = 0.007072040375654197\n",
      "I_ 52 = 0.007210605414367241\n",
      "I_ 51 = 0.007354706795800188\n",
      "I_ 50 = 0.0075046829593448505\n"
     ]
    }
   ],
   "source": [
    "import numpy as np\n",
    "from math import exp\n",
    "\n",
    "oneovere=exp(-1.0)\n",
    "I=1.0-oneovere\n",
    "for n in xrange(1,51):\n",
    "    I=I*n-oneovere\n",
    "print 'I_50, forward recursion=', I\n",
    "\n",
    "I=np.float(2**-60)*oneovere\n",
    "print 'I_60=',I\n",
    "for n in xrange(59,49,-1):\n",
    "    I+=oneovere\n",
    "    I*=np.float(1.0/n)\n",
    "    print 'I_',n,'=',repr(I)\n",
    "    \n"
   ]
  },
  {
   "cell_type": "code",
   "execution_count": null,
   "metadata": {
    "collapsed": true
   },
   "outputs": [],
   "source": []
  },
  {
   "cell_type": "code",
   "execution_count": null,
   "metadata": {
    "collapsed": true
   },
   "outputs": [],
   "source": []
  }
 ],
 "metadata": {
  "anaconda-cloud": {},
  "kernelspec": {
   "display_name": "Python [Root]",
   "language": "python",
   "name": "Python [Root]"
  },
  "language_info": {
   "codemirror_mode": {
    "name": "ipython",
    "version": 2
   },
   "file_extension": ".py",
   "mimetype": "text/x-python",
   "name": "python",
   "nbconvert_exporter": "python",
   "pygments_lexer": "ipython2",
   "version": "2.7.12"
  }
 },
 "nbformat": 4,
 "nbformat_minor": 0
}
